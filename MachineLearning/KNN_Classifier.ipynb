{
 "cells": [
  {
   "cell_type": "code",
   "execution_count": 1,
   "metadata": {},
   "outputs": [],
   "source": [
    "from sklearn.neighbors import KNeighborsClassifier\n",
    "import pandas as pd\n",
    "from sklearn.model_selection import train_test_split\n",
    "from sklearn.preprocessing import MinMaxScaler"
   ]
  },
  {
   "cell_type": "code",
   "execution_count": 2,
   "metadata": {},
   "outputs": [],
   "source": [
    "#instancia variavel para manipular KNN\n",
    "    #n_neighbors -> calcula a distância euclidiana do novo dado com os dados que foram usados para treino, neste caso\n",
    "        #o novo elemento será comparado aos 3 vizinhos mais próximos a este dado novo em relação aos dados de treino\n",
    "knn = KNeighborsClassifier(n_neighbors=3)"
   ]
  },
  {
   "cell_type": "code",
   "execution_count": 3,
   "metadata": {},
   "outputs": [
    {
     "data": {
      "text/html": [
       "<div>\n",
       "<style scoped>\n",
       "    .dataframe tbody tr th:only-of-type {\n",
       "        vertical-align: middle;\n",
       "    }\n",
       "\n",
       "    .dataframe tbody tr th {\n",
       "        vertical-align: top;\n",
       "    }\n",
       "\n",
       "    .dataframe thead th {\n",
       "        text-align: right;\n",
       "    }\n",
       "</style>\n",
       "<table border=\"1\" class=\"dataframe\">\n",
       "  <thead>\n",
       "    <tr style=\"text-align: right;\">\n",
       "      <th></th>\n",
       "      <th>fruit_label</th>\n",
       "      <th>fruit_name</th>\n",
       "      <th>fruit_subtype</th>\n",
       "      <th>mass</th>\n",
       "      <th>width</th>\n",
       "      <th>height</th>\n",
       "      <th>color_score</th>\n",
       "    </tr>\n",
       "  </thead>\n",
       "  <tbody>\n",
       "    <tr>\n",
       "      <th>0</th>\n",
       "      <td>1</td>\n",
       "      <td>apple</td>\n",
       "      <td>granny_smith</td>\n",
       "      <td>192</td>\n",
       "      <td>8.4</td>\n",
       "      <td>7.3</td>\n",
       "      <td>0.55</td>\n",
       "    </tr>\n",
       "    <tr>\n",
       "      <th>1</th>\n",
       "      <td>1</td>\n",
       "      <td>apple</td>\n",
       "      <td>granny_smith</td>\n",
       "      <td>180</td>\n",
       "      <td>8.0</td>\n",
       "      <td>6.8</td>\n",
       "      <td>0.59</td>\n",
       "    </tr>\n",
       "    <tr>\n",
       "      <th>2</th>\n",
       "      <td>1</td>\n",
       "      <td>apple</td>\n",
       "      <td>granny_smith</td>\n",
       "      <td>176</td>\n",
       "      <td>7.4</td>\n",
       "      <td>7.2</td>\n",
       "      <td>0.60</td>\n",
       "    </tr>\n",
       "    <tr>\n",
       "      <th>3</th>\n",
       "      <td>2</td>\n",
       "      <td>mandarin</td>\n",
       "      <td>mandarin</td>\n",
       "      <td>86</td>\n",
       "      <td>6.2</td>\n",
       "      <td>4.7</td>\n",
       "      <td>0.80</td>\n",
       "    </tr>\n",
       "    <tr>\n",
       "      <th>4</th>\n",
       "      <td>2</td>\n",
       "      <td>mandarin</td>\n",
       "      <td>mandarin</td>\n",
       "      <td>84</td>\n",
       "      <td>6.0</td>\n",
       "      <td>4.6</td>\n",
       "      <td>0.79</td>\n",
       "    </tr>\n",
       "  </tbody>\n",
       "</table>\n",
       "</div>"
      ],
      "text/plain": [
       "   fruit_label fruit_name fruit_subtype  mass  width  height  color_score\n",
       "0            1      apple  granny_smith   192    8.4     7.3         0.55\n",
       "1            1      apple  granny_smith   180    8.0     6.8         0.59\n",
       "2            1      apple  granny_smith   176    7.4     7.2         0.60\n",
       "3            2   mandarin      mandarin    86    6.2     4.7         0.80\n",
       "4            2   mandarin      mandarin    84    6.0     4.6         0.79"
      ]
     },
     "execution_count": 3,
     "metadata": {},
     "output_type": "execute_result"
    }
   ],
   "source": [
    "data = pd.read_table('fruit_data_with_colors.txt')\n",
    "data.head(5)"
   ]
  },
  {
   "cell_type": "code",
   "execution_count": 4,
   "metadata": {},
   "outputs": [],
   "source": [
    "#preditores\n",
    "X = data[['mass','height','width','color_score']]\n",
    "#classes\n",
    "y = data['fruit_label']"
   ]
  },
  {
   "cell_type": "code",
   "execution_count": 5,
   "metadata": {},
   "outputs": [],
   "source": [
    "#divide em dados de treino e dados de teste \n",
    "    #padrão: 25% dados para teste\n",
    "X_train, X_test, y_train, y_test = train_test_split(X,y)"
   ]
  },
  {
   "cell_type": "code",
   "execution_count": 6,
   "metadata": {},
   "outputs": [
    {
     "data": {
      "text/plain": [
       "KNeighborsClassifier(n_neighbors=3)"
      ]
     },
     "execution_count": 6,
     "metadata": {},
     "output_type": "execute_result"
    }
   ],
   "source": [
    "#trinamento do modelo KNN\n",
    "knn.fit(X_train,y_train)"
   ]
  },
  {
   "cell_type": "code",
   "execution_count": 7,
   "metadata": {},
   "outputs": [
    {
     "data": {
      "text/plain": [
       "0.4"
      ]
     },
     "execution_count": 7,
     "metadata": {},
     "output_type": "execute_result"
    }
   ],
   "source": [
    "#testando a precisão do modelo\n",
    "knn.score(X_test,y_test)"
   ]
  },
  {
   "cell_type": "code",
   "execution_count": 8,
   "metadata": {},
   "outputs": [],
   "source": [
    "#Alterar escala do modelo (padronizar a escala dos dados)\n",
    "mm = MinMaxScaler()"
   ]
  },
  {
   "cell_type": "code",
   "execution_count": 11,
   "metadata": {},
   "outputs": [
    {
     "data": {
      "text/plain": [
       "array([[0.34265734, 0.96825397, 0.39473684, 0.44736842],\n",
       "       [0.93006993, 0.85714286, 0.84210526, 0.52631579],\n",
       "       [0.33566434, 0.47619048, 0.42105263, 0.89473684],\n",
       "       [0.28671329, 0.55555556, 0.34210526, 0.63157895],\n",
       "       [0.22377622, 0.49206349, 0.23684211, 0.44736842],\n",
       "       [0.13986014, 0.71428571, 0.07894737, 0.42105263],\n",
       "       [0.        , 0.        , 0.        , 0.68421053],\n",
       "       [0.14685315, 0.63492063, 0.02631579, 0.44736842],\n",
       "       [0.36363636, 0.44444444, 0.57894737, 0.10526316],\n",
       "       [1.        , 0.82539683, 1.        , 0.5       ],\n",
       "       [0.26573427, 0.71428571, 0.18421053, 0.44736842],\n",
       "       [0.30769231, 0.47619048, 0.36842105, 0.65789474],\n",
       "       [0.13986014, 0.55555556, 0.05263158, 0.44736842],\n",
       "       [0.29370629, 0.57142857, 0.34210526, 0.55263158],\n",
       "       [0.41958042, 0.9047619 , 0.39473684, 0.44736842],\n",
       "       [0.31468531, 0.52380952, 0.28947368, 1.        ],\n",
       "       [0.41258741, 1.        , 0.36842105, 0.39473684],\n",
       "       [0.36363636, 0.66666667, 0.47368421, 0.63157895],\n",
       "       [0.32867133, 0.61904762, 0.47368421, 0.86842105],\n",
       "       [0.30769231, 0.58730159, 0.39473684, 0.39473684],\n",
       "       [0.14685315, 0.65079365, 0.07894737, 0.39473684],\n",
       "       [0.27972028, 0.53968254, 0.42105263, 0.76315789],\n",
       "       [0.35664336, 0.6031746 , 0.34210526, 0.97368421],\n",
       "       [0.26573427, 0.52380952, 0.47368421, 0.36842105],\n",
       "       [0.3006993 , 0.50793651, 0.42105263, 0.78947368],\n",
       "       [0.44755245, 0.82539683, 0.44736842, 0.57894737],\n",
       "       [0.13986014, 0.65079365, 0.02631579, 0.47368421],\n",
       "       [0.40559441, 0.52380952, 0.68421053, 0.        ],\n",
       "       [0.48951049, 0.98412698, 0.39473684, 0.42105263],\n",
       "       [0.29370629, 0.53968254, 0.31578947, 0.68421053],\n",
       "       [0.46853147, 0.63492063, 0.52631579, 0.71052632],\n",
       "       [0.02797203, 0.0952381 , 0.05263158, 0.63157895],\n",
       "       [0.27272727, 0.49206349, 0.31578947, 0.86842105],\n",
       "       [0.28671329, 0.6031746 , 0.36842105, 0.57894737],\n",
       "       [0.27972028, 0.49206349, 0.5       , 0.36842105],\n",
       "       [0.15384615, 0.6984127 , 0.05263158, 0.5       ],\n",
       "       [0.1958042 , 0.74603175, 0.        , 0.47368421],\n",
       "       [0.33566434, 0.57142857, 0.34210526, 0.97368421],\n",
       "       [0.3986014 , 0.65079365, 0.44736842, 0.5       ],\n",
       "       [0.32167832, 0.57142857, 0.44736842, 0.47368421],\n",
       "       [0.22377622, 0.49206349, 0.39473684, 0.84210526],\n",
       "       [0.97902098, 0.82539683, 0.89473684, 0.52631579],\n",
       "       [0.34965035, 0.50793651, 0.42105263, 0.13157895],\n",
       "       [0.27972028, 0.55555556, 0.47368421, 0.31578947]])"
      ]
     },
     "execution_count": 11,
     "metadata": {},
     "output_type": "execute_result"
    }
   ],
   "source": [
    "#transforma os dados de treino (cada coluna) para uma mesma escala\n",
    "    #executa transformação de escala\n",
    "    #gera modelo com os dados transformados\n",
    "X_train = mm.fit_transform(X_train)\n",
    "X_train"
   ]
  },
  {
   "cell_type": "code",
   "execution_count": 13,
   "metadata": {},
   "outputs": [
    {
     "data": {
      "text/plain": [
       "array([[0.23776224, 0.53968254, 0.26315789, 0.52631579],\n",
       "       [0.18881119, 0.66666667, 0.05263158, 0.42105263],\n",
       "       [0.29370629, 0.55555556, 0.44736842, 0.81578947],\n",
       "       [0.38461538, 0.82539683, 0.36842105, 0.44736842],\n",
       "       [0.27272727, 0.50793651, 0.36842105, 0.71052632],\n",
       "       [0.23076923, 0.6031746 , 0.47368421, 0.52631579],\n",
       "       [0.13986014, 0.58730159, 0.13157895, 0.44736842],\n",
       "       [0.27272727, 0.55555556, 0.34210526, 0.60526316],\n",
       "       [0.25874126, 0.61904762, 0.34210526, 0.52631579],\n",
       "       [0.01398601, 0.04761905, 0.02631579, 0.68421053],\n",
       "       [0.27272727, 0.52380952, 0.39473684, 0.63157895],\n",
       "       [0.01398601, 0.04761905, 0.        , 0.57894737],\n",
       "       [0.43356643, 1.03174603, 0.39473684, 0.44736842],\n",
       "       [0.3006993 , 0.49206349, 0.44736842, 0.73684211],\n",
       "       [0.03496503, 0.11111111, 0.10526316, 0.65789474]])"
      ]
     },
     "execution_count": 13,
     "metadata": {},
     "output_type": "execute_result"
    }
   ],
   "source": [
    "#transforma os dados de teste (cada coluna) para uma mesma escala\n",
    "    #executa transformação de escala, com base na escala definida em fit_transform\n",
    "X_test = mm.transform(X_test)\n",
    "X_test"
   ]
  },
  {
   "cell_type": "code",
   "execution_count": 14,
   "metadata": {},
   "outputs": [],
   "source": [
    "#define knn com 3 vizinhos mais próximos do novo dado, para efeturar a classificação\n",
    "knn = KNeighborsClassifier(n_neighbors=3)"
   ]
  },
  {
   "cell_type": "code",
   "execution_count": 15,
   "metadata": {},
   "outputs": [
    {
     "data": {
      "text/plain": [
       "KNeighborsClassifier(n_neighbors=3)"
      ]
     },
     "execution_count": 15,
     "metadata": {},
     "output_type": "execute_result"
    }
   ],
   "source": [
    "#treina os dados\n",
    "knn.fit(X_train,y_train)"
   ]
  },
  {
   "cell_type": "code",
   "execution_count": 17,
   "metadata": {},
   "outputs": [
    {
     "data": {
      "text/plain": [
       "1.0"
      ]
     },
     "execution_count": 17,
     "metadata": {},
     "output_type": "execute_result"
    }
   ],
   "source": [
    "knn.score(X_test, y_test)"
   ]
  },
  {
   "cell_type": "code",
   "execution_count": 18,
   "metadata": {},
   "outputs": [
    {
     "data": {
      "text/plain": [
       "array([3, 4, 1, 4, 3, 3, 4, 3, 3, 2, 3, 2, 4, 1, 2], dtype=int64)"
      ]
     },
     "execution_count": 18,
     "metadata": {},
     "output_type": "execute_result"
    }
   ],
   "source": [
    "knn.predict(X_test)"
   ]
  },
  {
   "cell_type": "code",
   "execution_count": 19,
   "metadata": {},
   "outputs": [
    {
     "data": {
      "text/plain": [
       "39    3\n",
       "50    4\n",
       "20    1\n",
       "45    4\n",
       "42    3\n",
       "34    3\n",
       "55    4\n",
       "40    3\n",
       "35    3\n",
       "6     2\n",
       "37    3\n",
       "5     2\n",
       "44    4\n",
       "18    1\n",
       "3     2\n",
       "Name: fruit_label, dtype: int64"
      ]
     },
     "execution_count": 19,
     "metadata": {},
     "output_type": "execute_result"
    }
   ],
   "source": [
    "y_test"
   ]
  },
  {
   "cell_type": "code",
   "execution_count": null,
   "metadata": {},
   "outputs": [],
   "source": []
  }
 ],
 "metadata": {
  "kernelspec": {
   "display_name": "Python 3",
   "language": "python",
   "name": "python3"
  },
  "language_info": {
   "codemirror_mode": {
    "name": "ipython",
    "version": 3
   },
   "file_extension": ".py",
   "mimetype": "text/x-python",
   "name": "python",
   "nbconvert_exporter": "python",
   "pygments_lexer": "ipython3",
   "version": "3.8.5"
  }
 },
 "nbformat": 4,
 "nbformat_minor": 4
}
