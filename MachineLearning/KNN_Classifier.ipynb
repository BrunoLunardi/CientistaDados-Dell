{
 "cells": [
  {
   "cell_type": "code",
   "execution_count": 10,
   "metadata": {},
   "outputs": [],
   "source": [
    "from sklearn.neighbors import KNeighborsClassifier\n",
    "import pandas as pd\n",
    "from sklearn.model_selection import train_test_split\n",
    "from sklearn.preprocessing import MinMaxScaler"
   ]
  },
  {
   "cell_type": "code",
   "execution_count": 3,
   "metadata": {},
   "outputs": [],
   "source": [
    "#instancia variavel para manipular KNN\n",
    "    #n_neighbors -> calcula a distância euclidiana do novo dado com os dados que foram usados para treino, neste caso\n",
    "        #o novo elemento será comparado aos 3 vizinhos mais próximos a este dado novo em relação aos dados de treino\n",
    "knn = KNeighborsClassifier(n_neighbors=3)"
   ]
  },
  {
   "cell_type": "code",
   "execution_count": 17,
   "metadata": {},
   "outputs": [
    {
     "data": {
      "text/html": [
       "<div>\n",
       "<style scoped>\n",
       "    .dataframe tbody tr th:only-of-type {\n",
       "        vertical-align: middle;\n",
       "    }\n",
       "\n",
       "    .dataframe tbody tr th {\n",
       "        vertical-align: top;\n",
       "    }\n",
       "\n",
       "    .dataframe thead th {\n",
       "        text-align: right;\n",
       "    }\n",
       "</style>\n",
       "<table border=\"1\" class=\"dataframe\">\n",
       "  <thead>\n",
       "    <tr style=\"text-align: right;\">\n",
       "      <th></th>\n",
       "      <th>fruit_label</th>\n",
       "      <th>fruit_name</th>\n",
       "      <th>fruit_subtype</th>\n",
       "      <th>mass</th>\n",
       "      <th>width</th>\n",
       "      <th>height</th>\n",
       "      <th>color_score</th>\n",
       "    </tr>\n",
       "  </thead>\n",
       "  <tbody>\n",
       "    <tr>\n",
       "      <th>0</th>\n",
       "      <td>1</td>\n",
       "      <td>apple</td>\n",
       "      <td>granny_smith</td>\n",
       "      <td>192</td>\n",
       "      <td>8.4</td>\n",
       "      <td>7.3</td>\n",
       "      <td>0.55</td>\n",
       "    </tr>\n",
       "    <tr>\n",
       "      <th>1</th>\n",
       "      <td>1</td>\n",
       "      <td>apple</td>\n",
       "      <td>granny_smith</td>\n",
       "      <td>180</td>\n",
       "      <td>8.0</td>\n",
       "      <td>6.8</td>\n",
       "      <td>0.59</td>\n",
       "    </tr>\n",
       "    <tr>\n",
       "      <th>2</th>\n",
       "      <td>1</td>\n",
       "      <td>apple</td>\n",
       "      <td>granny_smith</td>\n",
       "      <td>176</td>\n",
       "      <td>7.4</td>\n",
       "      <td>7.2</td>\n",
       "      <td>0.60</td>\n",
       "    </tr>\n",
       "    <tr>\n",
       "      <th>3</th>\n",
       "      <td>2</td>\n",
       "      <td>mandarin</td>\n",
       "      <td>mandarin</td>\n",
       "      <td>86</td>\n",
       "      <td>6.2</td>\n",
       "      <td>4.7</td>\n",
       "      <td>0.80</td>\n",
       "    </tr>\n",
       "    <tr>\n",
       "      <th>4</th>\n",
       "      <td>2</td>\n",
       "      <td>mandarin</td>\n",
       "      <td>mandarin</td>\n",
       "      <td>84</td>\n",
       "      <td>6.0</td>\n",
       "      <td>4.6</td>\n",
       "      <td>0.79</td>\n",
       "    </tr>\n",
       "  </tbody>\n",
       "</table>\n",
       "</div>"
      ],
      "text/plain": [
       "   fruit_label fruit_name fruit_subtype  mass  width  height  color_score\n",
       "0            1      apple  granny_smith   192    8.4     7.3         0.55\n",
       "1            1      apple  granny_smith   180    8.0     6.8         0.59\n",
       "2            1      apple  granny_smith   176    7.4     7.2         0.60\n",
       "3            2   mandarin      mandarin    86    6.2     4.7         0.80\n",
       "4            2   mandarin      mandarin    84    6.0     4.6         0.79"
      ]
     },
     "execution_count": 17,
     "metadata": {},
     "output_type": "execute_result"
    }
   ],
   "source": [
    "data = pd.read_table('fruit_data_with_colors.txt')\n",
    "data.head(5)"
   ]
  },
  {
   "cell_type": "code",
   "execution_count": 5,
   "metadata": {},
   "outputs": [],
   "source": [
    "#preditores\n",
    "X = data[['mass','height','width','color_score']]\n",
    "#classes\n",
    "y = data['fruit_label']"
   ]
  },
  {
   "cell_type": "code",
   "execution_count": 7,
   "metadata": {},
   "outputs": [],
   "source": [
    "#divide em dados de treino e dados de teste \n",
    "    #padrão: 25% dados para teste\n",
    "X_train, X_test, y_train, y_test = train_test_split(X,y)"
   ]
  },
  {
   "cell_type": "code",
   "execution_count": 8,
   "metadata": {},
   "outputs": [
    {
     "data": {
      "text/plain": [
       "KNeighborsClassifier(n_neighbors=3)"
      ]
     },
     "execution_count": 8,
     "metadata": {},
     "output_type": "execute_result"
    }
   ],
   "source": [
    "#trinamento do modelo KNN\n",
    "knn.fit(X_train,y_train)"
   ]
  },
  {
   "cell_type": "code",
   "execution_count": 9,
   "metadata": {},
   "outputs": [
    {
     "data": {
      "text/plain": [
       "0.6"
      ]
     },
     "execution_count": 9,
     "metadata": {},
     "output_type": "execute_result"
    }
   ],
   "source": [
    "#testando a precisão do modelo\n",
    "knn.score(X_test,y_test)"
   ]
  },
  {
   "cell_type": "code",
   "execution_count": 11,
   "metadata": {},
   "outputs": [],
   "source": [
    "#Alterar escala do modelo (padronizar a escala dos dados)\n",
    "mm = MinMaxScaler()"
   ]
  },
  {
   "cell_type": "code",
   "execution_count": 13,
   "metadata": {},
   "outputs": [
    {
     "data": {
      "text/plain": [
       "array([[0.22857143, 0.47692308, 0.44117647, 0.84210526],\n",
       "       [0.        , 0.        , 0.        , 0.68421053],\n",
       "       [0.14285714, 0.56923077, 0.14705882, 0.44736842],\n",
       "       [0.41428571, 0.50769231, 0.76470588, 0.        ],\n",
       "       [0.42142857, 0.96923077, 0.41176471, 0.39473684],\n",
       "       [0.37142857, 0.43076923, 0.64705882, 0.10526316],\n",
       "       [0.24285714, 0.52307692, 0.29411765, 0.52631579],\n",
       "       [0.14285714, 0.63076923, 0.02941176, 0.47368421],\n",
       "       [0.27142857, 0.69230769, 0.20588235, 0.44736842],\n",
       "       [0.28571429, 0.47692308, 0.55882353, 0.36842105],\n",
       "       [0.27857143, 0.49230769, 0.41176471, 0.71052632],\n",
       "       [0.44285714, 1.        , 0.44117647, 0.44736842],\n",
       "       [0.32142857, 0.50769231, 0.32352941, 1.        ],\n",
       "       [0.14285714, 0.53846154, 0.05882353, 0.44736842],\n",
       "       [0.95      , 0.83076923, 0.94117647, 0.52631579],\n",
       "       [0.28571429, 0.52307692, 0.47058824, 0.76315789],\n",
       "       [0.01428571, 0.04615385, 0.02941176, 0.68421053],\n",
       "       [0.30714286, 0.47692308, 0.5       , 0.73684211],\n",
       "       [0.30714286, 0.49230769, 0.47058824, 0.78947368],\n",
       "       [0.27857143, 0.47692308, 0.35294118, 0.86842105],\n",
       "       [0.40714286, 0.63076923, 0.5       , 0.5       ],\n",
       "       [0.02857143, 0.09230769, 0.05882353, 0.63157895],\n",
       "       [0.33571429, 0.6       , 0.52941176, 0.86842105],\n",
       "       [0.03571429, 0.10769231, 0.11764706, 0.65789474],\n",
       "       [0.14285714, 0.69230769, 0.08823529, 0.42105263],\n",
       "       [0.35      , 0.93846154, 0.44117647, 0.44736842],\n",
       "       [0.22857143, 0.47692308, 0.26470588, 0.44736842],\n",
       "       [0.28571429, 0.53846154, 0.52941176, 0.31578947],\n",
       "       [0.32857143, 0.55384615, 0.5       , 0.47368421],\n",
       "       [0.15      , 0.61538462, 0.02941176, 0.44736842],\n",
       "       [0.45714286, 0.8       , 0.5       , 0.57894737],\n",
       "       [0.3       , 0.53846154, 0.5       , 0.81578947],\n",
       "       [0.37142857, 0.64615385, 0.52941176, 0.63157895],\n",
       "       [0.47857143, 0.61538462, 0.58823529, 0.71052632],\n",
       "       [0.2       , 0.72307692, 0.        , 0.47368421],\n",
       "       [0.27142857, 0.50769231, 0.52941176, 0.36842105],\n",
       "       [0.15714286, 0.67692308, 0.05882353, 0.5       ],\n",
       "       [0.3       , 0.55384615, 0.38235294, 0.55263158],\n",
       "       [0.34285714, 0.46153846, 0.47058824, 0.89473684],\n",
       "       [1.        , 0.8       , 1.        , 0.52631579],\n",
       "       [0.34285714, 0.55384615, 0.38235294, 0.97368421],\n",
       "       [0.27857143, 0.50769231, 0.44117647, 0.63157895],\n",
       "       [0.31428571, 0.56923077, 0.44117647, 0.39473684],\n",
       "       [0.39285714, 0.8       , 0.41176471, 0.44736842]])"
      ]
     },
     "execution_count": 13,
     "metadata": {},
     "output_type": "execute_result"
    }
   ],
   "source": [
    "X_train = mm.fit_transform(X_train)\n",
    "X_train"
   ]
  },
  {
   "cell_type": "code",
   "execution_count": 15,
   "metadata": {},
   "outputs": [
    {
     "data": {
      "text/plain": [
       "array([[150.  ,   7.9 ,   7.1 ,   0.75],\n",
       "       [118.  ,   8.1 ,   6.1 ,   0.7 ],\n",
       "       [130.  ,   8.2 ,   6.  ,   0.71],\n",
       "       [164.  ,   7.  ,   7.2 ,   0.8 ],\n",
       "       [142.  ,   7.8 ,   7.6 ,   0.75],\n",
       "       [160.  ,   7.4 ,   7.  ,   0.81],\n",
       "       [362.  ,   9.2 ,   9.6 ,   0.74],\n",
       "       [154.  ,   7.5 ,   7.1 ,   0.78],\n",
       "       [176.  ,   7.2 ,   7.4 ,   0.6 ],\n",
       "       [196.  ,   9.7 ,   7.3 ,   0.72],\n",
       "       [158.  ,   7.8 ,   7.2 ,   0.77],\n",
       "       [216.  ,  10.2 ,   7.3 ,   0.71],\n",
       "       [158.  ,   7.5 ,   7.1 ,   0.79],\n",
       "       [ 80.  ,   4.3 ,   5.8 ,   0.77],\n",
       "       [178.  ,   7.8 ,   7.1 ,   0.92]])"
      ]
     },
     "execution_count": 15,
     "metadata": {},
     "output_type": "execute_result"
    }
   ],
   "source": [
    "X_test = mm.transform(X_test)\n",
    "X_test"
   ]
  },
  {
   "cell_type": "code",
   "execution_count": null,
   "metadata": {},
   "outputs": [],
   "source": []
  }
 ],
 "metadata": {
  "kernelspec": {
   "display_name": "Python 3",
   "language": "python",
   "name": "python3"
  },
  "language_info": {
   "codemirror_mode": {
    "name": "ipython",
    "version": 3
   },
   "file_extension": ".py",
   "mimetype": "text/x-python",
   "name": "python",
   "nbconvert_exporter": "python",
   "pygments_lexer": "ipython3",
   "version": "3.8.5"
  }
 },
 "nbformat": 4,
 "nbformat_minor": 4
}
