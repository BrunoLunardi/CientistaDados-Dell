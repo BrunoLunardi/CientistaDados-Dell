{
 "cells": [
  {
   "cell_type": "code",
   "execution_count": 18,
   "metadata": {},
   "outputs": [],
   "source": [
    "import nltk\n",
    "from nltk.tokenize import word_tokenize\n",
    "from sklearn.feature_extraction.text import TfidfVectorizer\n",
    "import pandas as pd"
   ]
  },
  {
   "cell_type": "code",
   "execution_count": 19,
   "metadata": {},
   "outputs": [
    {
     "name": "stdout",
     "output_type": "stream",
     "text": [
      "['de', 'a', 'o', 'que', 'e', 'é', 'do', 'da', 'em', 'um', 'para', 'com', 'não', 'uma', 'os', 'no', 'se', 'na', 'por', 'mais', 'as', 'dos', 'como', 'mas', 'ao', 'ele', 'das', 'à', 'seu', 'sua', 'ou', 'quando', 'muito', 'nos', 'já', 'eu', 'também', 'só', 'pelo', 'pela', 'até', 'isso', 'ela', 'entre', 'depois', 'sem', 'mesmo', 'aos', 'seus', 'quem', 'nas', 'me', 'esse', 'eles', 'você', 'essa', 'num', 'nem', 'suas', 'meu', 'às', 'minha', 'numa', 'pelos', 'elas', 'qual', 'nós', 'lhe', 'deles', 'essas', 'esses', 'pelas', 'este', 'dele', 'tu', 'te', 'vocês', 'vos', 'lhes', 'meus', 'minhas', 'teu', 'tua', 'teus', 'tuas', 'nosso', 'nossa', 'nossos', 'nossas', 'dela', 'delas', 'esta', 'estes', 'estas', 'aquele', 'aquela', 'aqueles', 'aquelas', 'isto', 'aquilo', 'estou', 'está', 'estamos', 'estão', 'estive', 'esteve', 'estivemos', 'estiveram', 'estava', 'estávamos', 'estavam', 'estivera', 'estivéramos', 'esteja', 'estejamos', 'estejam', 'estivesse', 'estivéssemos', 'estivessem', 'estiver', 'estivermos', 'estiverem', 'hei', 'há', 'havemos', 'hão', 'houve', 'houvemos', 'houveram', 'houvera', 'houvéramos', 'haja', 'hajamos', 'hajam', 'houvesse', 'houvéssemos', 'houvessem', 'houver', 'houvermos', 'houverem', 'houverei', 'houverá', 'houveremos', 'houverão', 'houveria', 'houveríamos', 'houveriam', 'sou', 'somos', 'são', 'era', 'éramos', 'eram', 'fui', 'foi', 'fomos', 'foram', 'fora', 'fôramos', 'seja', 'sejamos', 'sejam', 'fosse', 'fôssemos', 'fossem', 'for', 'formos', 'forem', 'serei', 'será', 'seremos', 'serão', 'seria', 'seríamos', 'seriam', 'tenho', 'tem', 'temos', 'tém', 'tinha', 'tínhamos', 'tinham', 'tive', 'teve', 'tivemos', 'tiveram', 'tivera', 'tivéramos', 'tenha', 'tenhamos', 'tenham', 'tivesse', 'tivéssemos', 'tivessem', 'tiver', 'tivermos', 'tiverem', 'terei', 'terá', 'teremos', 'terão', 'teria', 'teríamos', 'teriam']\n"
     ]
    }
   ],
   "source": [
    "#conjuntos de textos escritos em um idioma\n",
    "    #serão utilizados para validação de um processo\n",
    "    \n",
    "#stopwords -> palavras removidas no início do processamento do texto, a remoção destas não altera o sentido do texto\n",
    "stopwords = nltk.corpus.stopwords.words('portuguese')\n",
    "\n",
    "print(stopwords)"
   ]
  },
  {
   "cell_type": "code",
   "execution_count": 20,
   "metadata": {},
   "outputs": [
    {
     "name": "stdout",
     "output_type": "stream",
     "text": [
      "['Eu', 'dirijo', 'devagar', 'porque', 'nós', 'queremos', 'ver', 'os', 'animais', '.']\n"
     ]
    }
   ],
   "source": [
    "#nltk.download('punkt')\n",
    "frase = 'Eu dirijo devagar porque nós queremos ver os animais.'\n",
    "#tokenização -> divisão de um texto em partes menores (representam as palavras)\n",
    "tokens = word_tokenize(frase)\n",
    "print(tokens)"
   ]
  },
  {
   "cell_type": "code",
   "execution_count": 21,
   "metadata": {},
   "outputs": [
    {
     "name": "stdout",
     "output_type": "stream",
     "text": [
      "Eu\n",
      "dirijo\n",
      "devagar\n",
      "porque\n",
      "queremos\n",
      "ver\n",
      "animais\n",
      ".\n"
     ]
    }
   ],
   "source": [
    "for t in tokens:\n",
    "    if t not in stopwords:\n",
    "        print(t)"
   ]
  },
  {
   "cell_type": "code",
   "execution_count": 29,
   "metadata": {},
   "outputs": [
    {
     "name": "stdout",
     "output_type": "stream",
     "text": [
      "  (0, 2)\t0.35355339059327373\n",
      "  (0, 6)\t0.35355339059327373\n",
      "  (0, 0)\t0.35355339059327373\n",
      "  (0, 1)\t0.35355339059327373\n",
      "  (0, 7)\t0.35355339059327373\n",
      "  (0, 3)\t0.35355339059327373\n",
      "  (0, 5)\t0.35355339059327373\n",
      "  (0, 4)\t0.35355339059327373\n"
     ]
    }
   ],
   "source": [
    "texto1 = 'A matemática é muito importante para compreendermos como a natureza funciona'\n",
    "#frequencia e importacia de uma palavra em um texto\n",
    "#identifica importância de um termo em um texto (com base na frequencia que ele aparece):\n",
    "    #Term Frequency (TF):\n",
    "    #Inverse Document Frequency (IDF):\n",
    "\n",
    "tf_idf = TfidfVectorizer()\n",
    "\n",
    "#retorna matriz com termo e score associados\n",
    "vetor = tf_idf.fit_transform([texto1])\n",
    "print(vetor)"
   ]
  },
  {
   "cell_type": "code",
   "execution_count": 24,
   "metadata": {},
   "outputs": [
    {
     "name": "stdout",
     "output_type": "stream",
     "text": [
      "[[0.35355339 0.35355339 0.35355339 0.35355339 0.35355339 0.35355339\n",
      "  0.35355339 0.35355339]]\n"
     ]
    }
   ],
   "source": [
    "#formata para array\n",
    "vetor = vetor.todense()\n",
    "print(vetor)\n"
   ]
  },
  {
   "cell_type": "code",
   "execution_count": 25,
   "metadata": {},
   "outputs": [
    {
     "name": "stdout",
     "output_type": "stream",
     "text": [
      "       como  compreendermos  funciona  importante  matemática     muito  \\\n",
      "0  0.353553        0.353553  0.353553    0.353553    0.353553  0.353553   \n",
      "\n",
      "   natureza      para  \n",
      "0  0.353553  0.353553  \n"
     ]
    }
   ],
   "source": [
    "#termos e seus pesos (scores\n",
    "nomes = tf_idf.get_feature_names()\n",
    "\n",
    "df = pd.DataFrame(vetor, columns=nomes)\n",
    "print(df)"
   ]
  },
  {
   "cell_type": "code",
   "execution_count": 30,
   "metadata": {},
   "outputs": [],
   "source": [
    "texto2 = 'A matemática é incrível, quanto mais estudo matemática, mais eu consigo aprender matemática'\n",
    "\n",
    "tf_idf = TfidfVectorizer()\n",
    "vetor2 = tf_idf.fit_transform([texto2])"
   ]
  },
  {
   "cell_type": "code",
   "execution_count": 31,
   "metadata": {},
   "outputs": [
    {
     "name": "stdout",
     "output_type": "stream",
     "text": [
      "   aprender   consigo    estudo        eu  incrível      mais  matemática  \\\n",
      "0  0.229416  0.229416  0.229416  0.229416  0.229416  0.458831    0.688247   \n",
      "\n",
      "     quanto  \n",
      "0  0.229416  \n"
     ]
    }
   ],
   "source": [
    "vetor2 = vetor2.todense()\n",
    "\n",
    "nomes = tf_idf.get_feature_names()\n",
    "\n",
    "df = pd.DataFrame(vetor2, columns=nomes)\n",
    "print(df)"
   ]
  },
  {
   "cell_type": "code",
   "execution_count": null,
   "metadata": {},
   "outputs": [],
   "source": []
  }
 ],
 "metadata": {
  "kernelspec": {
   "display_name": "Python 3",
   "language": "python",
   "name": "python3"
  },
  "language_info": {
   "codemirror_mode": {
    "name": "ipython",
    "version": 3
   },
   "file_extension": ".py",
   "mimetype": "text/x-python",
   "name": "python",
   "nbconvert_exporter": "python",
   "pygments_lexer": "ipython3",
   "version": "3.8.5"
  }
 },
 "nbformat": 4,
 "nbformat_minor": 4
}
